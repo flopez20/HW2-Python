{
 "cells": [
  {
   "cell_type": "code",
   "execution_count": 1,
   "metadata": {},
   "outputs": [
    {
     "name": "stdout",
     "output_type": "stream",
     "text": [
      "Current Working Directory: /Users/franciscolopezbarrera/Desktop/COLUMBIA/Fintech_Bootcamp/hw2_python/HW2-Python/PyBank\n"
     ]
    }
   ],
   "source": [
    "from pathlib import Path\n",
    "print(f\"Current Working Directory: {Path.cwd()}\")"
   ]
  },
  {
   "cell_type": "code",
   "execution_count": 2,
   "metadata": {},
   "outputs": [],
   "source": [
    "import csv\n",
    "\n",
    "csvpath = Path('budget_data.csv')"
   ]
  },
  {
   "cell_type": "code",
   "execution_count": 3,
   "metadata": {},
   "outputs": [],
   "source": [
    "profit_losses = []\n",
    "line_num = 0\n",
    "month_count = 0\n",
    "net_profit = 0 \n",
    "month_list = []\n",
    "month_profit= 0\n",
    "change = 0 \n",
    "change_list = []\n",
    "avg_change = 0"
   ]
  },
  {
   "cell_type": "code",
   "execution_count": 4,
   "metadata": {},
   "outputs": [
    {
     "name": "stdout",
     "output_type": "stream",
     "text": [
      "<class '_io.TextIOWrapper'>\n",
      "<class '_csv.reader'>\n",
      "['Date', 'Profit/Losses'] <---- HEADER\n"
     ]
    }
   ],
   "source": [
    "with open(csvpath, 'r') as csvfile:\n",
    "\n",
    "\n",
    "    print(type(csvfile))\n",
    "    \n",
    "    csvreader = csv.reader(csvfile, delimiter=',')\n",
    "\n",
    "    print(type(csvreader))\n",
    "    \n",
    "    header = next(csvreader)\n",
    "    line_num += 1\n",
    "  \n",
    "    print(f\"{header} <---- HEADER\")\n",
    "    \n",
    "    for row in csvreader:\n",
    "        \n",
    "        month_count += 1\n",
    "        month_list.append(str(row[0]))\n",
    "        net_profit += int(row[1])\n",
    "        month_profit = int(row[1])\n",
    "        profit_losses.append(month_profit)\n",
    "        \n",
    "        if change != 0:\n",
    "\n",
    "            month_profit = int(row[1])\n",
    "            change = month_profit - change\n",
    "            change_list.append(change)\n",
    "            change = int(row[1])\n",
    "            \n",
    "        elif change == 0:\n",
    "            change = int(row[1])  \n",
    "\n"
   ]
  },
  {
   "cell_type": "code",
   "execution_count": 5,
   "metadata": {},
   "outputs": [
    {
     "data": {
      "text/plain": [
       "86"
      ]
     },
     "execution_count": 5,
     "metadata": {},
     "output_type": "execute_result"
    }
   ],
   "source": [
    "month_count"
   ]
  },
  {
   "cell_type": "code",
   "execution_count": 6,
   "metadata": {},
   "outputs": [
    {
     "data": {
      "text/plain": [
       "38382578"
      ]
     },
     "execution_count": 6,
     "metadata": {},
     "output_type": "execute_result"
    }
   ],
   "source": [
    "net_profit"
   ]
  },
  {
   "cell_type": "code",
   "execution_count": 7,
   "metadata": {},
   "outputs": [
    {
     "data": {
      "text/plain": [
       "-2315.1176470588234"
      ]
     },
     "execution_count": 7,
     "metadata": {},
     "output_type": "execute_result"
    }
   ],
   "source": [
    "total_change = sum(change_list)\n",
    "total_change\n",
    "avg_change = total_change / len(change_list)\n",
    "avg_change"
   ]
  },
  {
   "cell_type": "code",
   "execution_count": 9,
   "metadata": {},
   "outputs": [
    {
     "data": {
      "text/plain": [
       "['Feb-10',\n",
       " 'Mar-10',\n",
       " 'Apr-10',\n",
       " 'May-10',\n",
       " 'Jun-10',\n",
       " 'Jul-10',\n",
       " 'Aug-10',\n",
       " 'Sep-10',\n",
       " 'Oct-10',\n",
       " 'Nov-10',\n",
       " 'Dec-10',\n",
       " 'Jan-11',\n",
       " 'Feb-11',\n",
       " 'Mar-11',\n",
       " 'Apr-11',\n",
       " 'May-11',\n",
       " 'Jun-11',\n",
       " 'Jul-11',\n",
       " 'Aug-11',\n",
       " 'Sep-11',\n",
       " 'Oct-11',\n",
       " 'Nov-11',\n",
       " 'Dec-11',\n",
       " 'Jan-12',\n",
       " 'Feb-12',\n",
       " 'Mar-12',\n",
       " 'Apr-12',\n",
       " 'May-12',\n",
       " 'Jun-12',\n",
       " 'Jul-12',\n",
       " 'Aug-12',\n",
       " 'Sep-12',\n",
       " 'Oct-12',\n",
       " 'Nov-12',\n",
       " 'Dec-12',\n",
       " 'Jan-13',\n",
       " 'Feb-13',\n",
       " 'Mar-13',\n",
       " 'Apr-13',\n",
       " 'May-13',\n",
       " 'Jun-13',\n",
       " 'Jul-13',\n",
       " 'Aug-13',\n",
       " 'Sep-13',\n",
       " 'Oct-13',\n",
       " 'Nov-13',\n",
       " 'Dec-13',\n",
       " 'Jan-14',\n",
       " 'Feb-14',\n",
       " 'Mar-14',\n",
       " 'Apr-14',\n",
       " 'May-14',\n",
       " 'Jun-14',\n",
       " 'Jul-14',\n",
       " 'Aug-14',\n",
       " 'Sep-14',\n",
       " 'Oct-14',\n",
       " 'Nov-14',\n",
       " 'Dec-14',\n",
       " 'Jan-15',\n",
       " 'Feb-15',\n",
       " 'Mar-15',\n",
       " 'Apr-15',\n",
       " 'May-15',\n",
       " 'Jun-15',\n",
       " 'Jul-15',\n",
       " 'Aug-15',\n",
       " 'Sep-15',\n",
       " 'Oct-15',\n",
       " 'Nov-15',\n",
       " 'Dec-15',\n",
       " 'Jan-16',\n",
       " 'Feb-16',\n",
       " 'Mar-16',\n",
       " 'Apr-16',\n",
       " 'May-16',\n",
       " 'Jun-16',\n",
       " 'Jul-16',\n",
       " 'Aug-16',\n",
       " 'Sep-16',\n",
       " 'Oct-16',\n",
       " 'Nov-16',\n",
       " 'Dec-16',\n",
       " 'Jan-17',\n",
       " 'Feb-17']"
      ]
     },
     "execution_count": 9,
     "metadata": {},
     "output_type": "execute_result"
    }
   ],
   "source": [
    "month_list.pop(0)\n",
    "month_list"
   ]
  },
  {
   "cell_type": "code",
   "execution_count": 10,
   "metadata": {},
   "outputs": [
    {
     "data": {
      "text/plain": [
       "{'Feb-10': 116771,\n",
       " 'Mar-10': -662642,\n",
       " 'Apr-10': -391430,\n",
       " 'May-10': 379920,\n",
       " 'Jun-10': 212354,\n",
       " 'Jul-10': 510239,\n",
       " 'Aug-10': -428211,\n",
       " 'Sep-10': -821271,\n",
       " 'Oct-10': 693918,\n",
       " 'Nov-10': 416278,\n",
       " 'Dec-10': -974163,\n",
       " 'Jan-11': 860159,\n",
       " 'Feb-11': -1115009,\n",
       " 'Mar-11': 1033048,\n",
       " 'Apr-11': 95318,\n",
       " 'May-11': -308093,\n",
       " 'Jun-11': 99052,\n",
       " 'Jul-11': -521393,\n",
       " 'Aug-11': 605450,\n",
       " 'Sep-11': 231727,\n",
       " 'Oct-11': -65187,\n",
       " 'Nov-11': -702716,\n",
       " 'Dec-11': 177975,\n",
       " 'Jan-12': -1065544,\n",
       " 'Feb-12': 1926159,\n",
       " 'Mar-12': -917805,\n",
       " 'Apr-12': 898730,\n",
       " 'May-12': -334262,\n",
       " 'Jun-12': -246499,\n",
       " 'Jul-12': -64055,\n",
       " 'Aug-12': -1529236,\n",
       " 'Sep-12': 1497596,\n",
       " 'Oct-12': 304914,\n",
       " 'Nov-12': -635801,\n",
       " 'Dec-12': 398319,\n",
       " 'Jan-13': -183161,\n",
       " 'Feb-13': -37864,\n",
       " 'Mar-13': -253689,\n",
       " 'Apr-13': 403655,\n",
       " 'May-13': 94168,\n",
       " 'Jun-13': 306877,\n",
       " 'Jul-13': -83000,\n",
       " 'Aug-13': 210462,\n",
       " 'Sep-13': -2196167,\n",
       " 'Oct-13': 1465222,\n",
       " 'Nov-13': -956983,\n",
       " 'Dec-13': 1838447,\n",
       " 'Jan-14': -468003,\n",
       " 'Feb-14': -64602,\n",
       " 'Mar-14': 206242,\n",
       " 'Apr-14': -242155,\n",
       " 'May-14': -449079,\n",
       " 'Jun-14': 315198,\n",
       " 'Jul-14': 241099,\n",
       " 'Aug-14': 111540,\n",
       " 'Sep-14': 365942,\n",
       " 'Oct-14': -219310,\n",
       " 'Nov-14': -368665,\n",
       " 'Dec-14': 409837,\n",
       " 'Jan-15': 151210,\n",
       " 'Feb-15': -110244,\n",
       " 'Mar-15': -341938,\n",
       " 'Apr-15': -1212159,\n",
       " 'May-15': 683246,\n",
       " 'Jun-15': -70825,\n",
       " 'Jul-15': 335594,\n",
       " 'Aug-15': 417334,\n",
       " 'Sep-15': -272194,\n",
       " 'Oct-15': -236462,\n",
       " 'Nov-15': 657432,\n",
       " 'Dec-15': -211262,\n",
       " 'Jan-16': -128237,\n",
       " 'Feb-16': -1750387,\n",
       " 'Mar-16': 925441,\n",
       " 'Apr-16': 932089,\n",
       " 'May-16': -311434,\n",
       " 'Jun-16': 267252,\n",
       " 'Jul-16': -1876758,\n",
       " 'Aug-16': 1733696,\n",
       " 'Sep-16': 198551,\n",
       " 'Oct-16': -665765,\n",
       " 'Nov-16': 693229,\n",
       " 'Dec-16': -734926,\n",
       " 'Jan-17': 77242,\n",
       " 'Feb-17': 532869}"
      ]
     },
     "execution_count": 10,
     "metadata": {},
     "output_type": "execute_result"
    }
   ],
   "source": [
    "month_change_dict = dict(zip(month_list, change_list))\n",
    "month_change_dict  "
   ]
  },
  {
   "cell_type": "code",
   "execution_count": 11,
   "metadata": {},
   "outputs": [
    {
     "name": "stdout",
     "output_type": "stream",
     "text": [
      "1926159 ['Feb-12']\n"
     ]
    }
   ],
   "source": [
    "max_value = max(month_change_dict.values())  \n",
    "max_keys = [k for k, v in month_change_dict.items() if v == max_value] \n",
    "\n",
    "print(max_value, max_keys)"
   ]
  },
  {
   "cell_type": "code",
   "execution_count": 12,
   "metadata": {},
   "outputs": [],
   "source": [
    "min_value = min(month_change_dict.values())  \n",
    "min_keys = [k for k, v in month_change_dict.items() if v == min_value] "
   ]
  },
  {
   "cell_type": "code",
   "execution_count": 13,
   "metadata": {},
   "outputs": [
    {
     "name": "stdout",
     "output_type": "stream",
     "text": [
      "-2196167 ['Sep-13']\n"
     ]
    }
   ],
   "source": [
    "print(min_value, min_keys)"
   ]
  },
  {
   "cell_type": "code",
   "execution_count": 16,
   "metadata": {},
   "outputs": [
    {
     "name": "stdout",
     "output_type": "stream",
     "text": [
      "Total Months: 86\n",
      "Total: $38382578\n",
      "Average  Change: $-2315.1176470588234\n",
      "Greatest Increase in Profits: ['Feb-12'] $1926159\n",
      "Greatest Decrease in Profits: ['Sep-13'] $-2196167\n"
     ]
    }
   ],
   "source": [
    "print( f'Total Months: {month_count}')\n",
    "print(f'Total: ${net_profit}')\n",
    "print(f'Average  Change: ${avg_change}')\n",
    "print(f'Greatest Increase in Profits: {max_keys} ${max_value}')\n",
    "print(f'Greatest Decrease in Profits: {min_keys} ${min_value}')"
   ]
  },
  {
   "cell_type": "code",
   "execution_count": 21,
   "metadata": {},
   "outputs": [],
   "source": [
    "analysis = Path('analysis.txt')\n",
    "with open(analysis, 'w') as txtfile:\n",
    "        txtfile.write(f'\\nTotal Months: {month_count}')\n",
    "        txtfile.write(f'\\nTotal: ${net_profit}')\n",
    "        txtfile.write(f'\\nAverage  Change: ${avg_change}')\n",
    "        txtfile.write(f'\\nGreatest Increase in Profits: {max_keys} ${max_value}')\n",
    "        txtfile.write(f'\\nGreatest Decrease in Profits: {min_keys} ${min_value}')"
   ]
  },
  {
   "cell_type": "code",
   "execution_count": 22,
   "metadata": {},
   "outputs": [],
   "source": [
    "output = Path(\"output.csv\")\n",
    "with open(output, 'w') as csvfile:\n",
    "    # Set the file object as a csvwriter object\n",
    "    csvwriter = csv.writer(csvfile, delimiter=',')"
   ]
  },
  {
   "cell_type": "code",
   "execution_count": null,
   "metadata": {},
   "outputs": [],
   "source": []
  }
 ],
 "metadata": {
  "kernelspec": {
   "display_name": "Python 3",
   "language": "python",
   "name": "python3"
  },
  "language_info": {
   "codemirror_mode": {
    "name": "ipython",
    "version": 3
   },
   "file_extension": ".py",
   "mimetype": "text/x-python",
   "name": "python",
   "nbconvert_exporter": "python",
   "pygments_lexer": "ipython3",
   "version": "3.7.6"
  }
 },
 "nbformat": 4,
 "nbformat_minor": 4
}
